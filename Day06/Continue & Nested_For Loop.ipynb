{
 "cells": [
  {
   "cell_type": "code",
   "execution_count": 7,
   "id": "c25301fe-04a0-4d7f-a3da-667f27d2dda9",
   "metadata": {},
   "outputs": [
    {
     "name": "stdout",
     "output_type": "stream",
     "text": [
      "2\n",
      "4\n",
      "6\n",
      "8\n",
      "10\n"
     ]
    }
   ],
   "source": [
    "for i in range (1,11):\n",
    "    if i % 2 != 0:\n",
    "        continue\n",
    "\n",
    "    print (i)"
   ]
  },
  {
   "cell_type": "code",
   "execution_count": null,
   "id": "10e8e5d9-4f72-4689-9b05-3d7c846291d3",
   "metadata": {},
   "outputs": [],
   "source": []
  },
  {
   "cell_type": "code",
   "execution_count": 1,
   "id": "9ac9347b-9c1a-497a-b9f9-34fec1802e89",
   "metadata": {},
   "outputs": [
    {
     "name": "stdout",
     "output_type": "stream",
     "text": [
      "1\n",
      "3\n",
      "5\n",
      "7\n",
      "9\n"
     ]
    }
   ],
   "source": [
    "for i in range (1,11):\n",
    "    if i % 2 == 0:\n",
    "        continue\n",
    "\n",
    "    print (i)"
   ]
  },
  {
   "cell_type": "code",
   "execution_count": null,
   "id": "c0e5de3c-78fc-40e1-b61f-ad8540525b86",
   "metadata": {},
   "outputs": [],
   "source": []
  },
  {
   "cell_type": "code",
   "execution_count": null,
   "id": "109866f3-2993-4ba1-908f-a0c613297140",
   "metadata": {},
   "outputs": [],
   "source": []
  },
  {
   "cell_type": "code",
   "execution_count": 19,
   "id": "6f82e369-a3db-49ce-814c-31d82963a156",
   "metadata": {},
   "outputs": [],
   "source": [
    "products = [\"iphone\", \"ipad\", \"Macbook\"]\n",
    "regions = [\"USA\", \"China\", \"India\"]\n",
    "revenue = [ 20, 23, 45, 18, 17, 12, 12, 9, 5]"
   ]
  },
  {
   "cell_type": "code",
   "execution_count": 15,
   "id": "39314322-0303-47fc-b7cb-c5db0ad10ef7",
   "metadata": {},
   "outputs": [
    {
     "name": "stdout",
     "output_type": "stream",
     "text": [
      "['iphone', 'ipad', 'Macbook']['USA', 'China', 'India']\n",
      "['iphone', 'ipad', 'Macbook']['USA', 'China', 'India']\n",
      "['iphone', 'ipad', 'Macbook']['USA', 'China', 'India']\n",
      "['iphone', 'ipad', 'Macbook']['USA', 'China', 'India']\n",
      "['iphone', 'ipad', 'Macbook']['USA', 'China', 'India']\n",
      "['iphone', 'ipad', 'Macbook']['USA', 'China', 'India']\n",
      "['iphone', 'ipad', 'Macbook']['USA', 'China', 'India']\n",
      "['iphone', 'ipad', 'Macbook']['USA', 'China', 'India']\n",
      "['iphone', 'ipad', 'Macbook']['USA', 'China', 'India']\n"
     ]
    }
   ],
   "source": [
    "for product in products:\n",
    "    for region in regions:\n",
    "        print(f\"{products}{regions}\")"
   ]
  },
  {
   "cell_type": "code",
   "execution_count": null,
   "id": "359acf36-871e-4280-9ca2-84aae8cc2451",
   "metadata": {},
   "outputs": [],
   "source": []
  },
  {
   "cell_type": "code",
   "execution_count": 25,
   "id": "77ce1b45-8d0a-4275-b891-cf4b5b56b7e1",
   "metadata": {},
   "outputs": [
    {
     "name": "stdout",
     "output_type": "stream",
     "text": [
      "iphone USA revenue: 20\n",
      "iphone China revenue: 23\n",
      "iphone India revenue: 45\n",
      "ipad USA revenue: 18\n",
      "ipad China revenue: 17\n",
      "ipad India revenue: 12\n",
      "Macbook USA revenue: 12\n",
      "Macbook China revenue: 9\n",
      "Macbook India revenue: 5\n"
     ]
    }
   ],
   "source": [
    "i = 0\n",
    "for product in products:\n",
    "    for region in regions:\n",
    "        rev  = revenue[i]\n",
    "        i = i + 1 \n",
    "        print(f\"{product} {region} revenue:\" , rev)"
   ]
  },
  {
   "cell_type": "code",
   "execution_count": 31,
   "id": "0d163e68-315d-4ffb-89c7-57d61e6d9819",
   "metadata": {},
   "outputs": [
    {
     "name": "stdout",
     "output_type": "stream",
     "text": [
      "0\n",
      "1\n",
      "2\n",
      "3\n",
      "4\n"
     ]
    }
   ],
   "source": [
    "for i in range (5):\n",
    "    print(i)"
   ]
  },
  {
   "cell_type": "code",
   "execution_count": 27,
   "id": "66f699c0-848d-4fdd-b589-a02978bf27b4",
   "metadata": {},
   "outputs": [
    {
     "name": "stdout",
     "output_type": "stream",
     "text": [
      "0\n",
      "1\n",
      "2\n",
      "3\n",
      "4\n",
      "for loop terminated\n"
     ]
    }
   ],
   "source": [
    "for i in range (5):\n",
    "    print(i)\n",
    "else:\n",
    "    print(\"for loop terminated\")"
   ]
  },
  {
   "cell_type": "code",
   "execution_count": null,
   "id": "d64a2e6f-57fa-4fa3-b4ea-9216e4af9427",
   "metadata": {},
   "outputs": [],
   "source": []
  }
 ],
 "metadata": {
  "kernelspec": {
   "display_name": "Python 3 (ipykernel)",
   "language": "python",
   "name": "python3"
  },
  "language_info": {
   "codemirror_mode": {
    "name": "ipython",
    "version": 3
   },
   "file_extension": ".py",
   "mimetype": "text/x-python",
   "name": "python",
   "nbconvert_exporter": "python",
   "pygments_lexer": "ipython3",
   "version": "3.12.4"
  }
 },
 "nbformat": 4,
 "nbformat_minor": 5
}
