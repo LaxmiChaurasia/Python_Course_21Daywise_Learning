{
 "cells": [
  {
   "cell_type": "code",
   "execution_count": 13,
   "id": "b79f7198-32fb-4492-bde6-2e7fc8d5ed33",
   "metadata": {},
   "outputs": [
    {
     "name": "stdout",
     "output_type": "stream",
     "text": [
      "5700\n"
     ]
    }
   ],
   "source": [
    "expenses = [1200, 1300, 1500, 1700]\n",
    "\n",
    "total_expense = 0\n",
    "for expense in expenses:\n",
    "    total_expense = total_expense + expense\n",
    "\n",
    "print(total_expense)"
   ]
  },
  {
   "cell_type": "code",
   "execution_count": 15,
   "id": "2f370062-1145-4463-8da2-31d3c90aa69d",
   "metadata": {},
   "outputs": [
    {
     "name": "stdout",
     "output_type": "stream",
     "text": [
      "1200\n",
      "2500\n",
      "4000\n",
      "5700\n"
     ]
    }
   ],
   "source": [
    "expenses = [1200, 1300, 1500, 1700]\n",
    "\n",
    "total_expense = 0\n",
    "for expense in expenses:\n",
    "    total_expense = total_expense + expense\n",
    "\n",
    "    print(total_expense)"
   ]
  },
  {
   "cell_type": "code",
   "execution_count": 17,
   "id": "f94ed6e6-7ee5-4b9f-9b54-256828221252",
   "metadata": {},
   "outputs": [
    {
     "name": "stdout",
     "output_type": "stream",
     "text": [
      "Month 1,expense:1200\n",
      "Month 2,expense:1300\n",
      "Month 3,expense:1500\n",
      "Month 4,expense:1700\n",
      "total: 11400\n"
     ]
    }
   ],
   "source": [
    "total_expenses = 0\n",
    "\n",
    "for i in range(len(expenses)):\n",
    "    expense = expenses[i]\n",
    "    print(f\"Month {i+1},expense:{expense}\")\n",
    "    total_expense += expense\n",
    "\n",
    "print(\"total:\", total_expense)"
   ]
  },
  {
   "cell_type": "code",
   "execution_count": 19,
   "id": "bab95675-e537-46e9-99ef-29ed93e20a26",
   "metadata": {},
   "outputs": [
    {
     "name": "stdout",
     "output_type": "stream",
     "text": [
      "Month 1,expense:1200\n",
      "total: 12600\n",
      "Month 2,expense:1300\n",
      "total: 13900\n",
      "Month 3,expense:1500\n",
      "total: 15400\n",
      "Month 4,expense:1700\n",
      "total: 17100\n"
     ]
    }
   ],
   "source": [
    "total_expenses = 0\n",
    "\n",
    "for i in range(len(expenses)):\n",
    "    expense = expenses[i]\n",
    "    print(f\"Month {i+1},expense:{expense}\")\n",
    "    total_expense += expense\n",
    "\n",
    "    print(\"total:\", total_expense)"
   ]
  },
  {
   "cell_type": "code",
   "execution_count": 23,
   "id": "eeb05ded-e200-408d-af65-73ac93056e43",
   "metadata": {},
   "outputs": [
    {
     "name": "stdout",
     "output_type": "stream",
     "text": [
      "Month 1,expense:1200\n",
      "Month 2,expense:1300\n",
      "Month 3,expense:1500\n",
      "Month 4,expense:1700\n",
      "total: 22800\n"
     ]
    }
   ],
   "source": [
    "total_expenses = 0\n",
    "\n",
    "for i, expense in enumerate (expenses):\n",
    "    print(f\"Month {i+1},expense:{expense}\")\n",
    "    total_expense += expense\n",
    "\n",
    "print(\"total:\", total_expense)"
   ]
  },
  {
   "cell_type": "code",
   "execution_count": 31,
   "id": "ed4e0c27-a6be-4665-afb9-f6ab0127010b",
   "metadata": {},
   "outputs": [
    {
     "name": "stdout",
     "output_type": "stream",
     "text": [
      "Sale amount 42 is above the thresold\n",
      "Sale amount 38 is above the thresold\n",
      "Sales amount 33 is below the thresold\n",
      "Sale amount 38 is above the thresold\n",
      "Sale amount 40 is above the thresold\n",
      "Sale amount 45 is above the thresold\n"
     ]
    }
   ],
   "source": [
    "monthly_sales = [42, 38, 33, 38, 40, 45]\n",
    "\n",
    "thresold = 35\n",
    "\n",
    "for sales_amount in monthly_sales:\n",
    "    if sales_amount < thresold:\n",
    "        print(f\"Sales amount {sales_amount} is below the thresold\")\n",
    "        #break\n",
    "    else:\n",
    "        print(f\"Sale amount {sales_amount} is above the thresold\")"
   ]
  },
  {
   "cell_type": "code",
   "execution_count": 33,
   "id": "3a55643f-b7fb-43ba-bed9-df0210cc8ecd",
   "metadata": {},
   "outputs": [
    {
     "name": "stdout",
     "output_type": "stream",
     "text": [
      "Sale amount 42 is above the thresold\n",
      "Sale amount 38 is above the thresold\n",
      "Sales amount 33 is below the thresold\n"
     ]
    }
   ],
   "source": [
    "monthly_sales = [42, 38, 33, 38, 40, 45]\n",
    "\n",
    "thresold = 35\n",
    "\n",
    "for sales_amount in monthly_sales:\n",
    "    if sales_amount < thresold:\n",
    "        print(f\"Sales amount {sales_amount} is below the thresold\")\n",
    "        break\n",
    "    else:\n",
    "        print(f\"Sale amount {sales_amount} is above the thresold\")"
   ]
  },
  {
   "cell_type": "code",
   "execution_count": 41,
   "id": "67505956-607c-4324-9c47-d374bd3fabe2",
   "metadata": {},
   "outputs": [
    {
     "name": "stdout",
     "output_type": "stream",
     "text": [
      "Sale amount 42 is above the thresold\n",
      "Sale amount 38 is above the thresold\n",
      "Sales amount 33 is below the thresold\n",
      "Sale amount 38 is above the thresold\n",
      "Sale amount 40 is above the thresold\n",
      "Sale amount 45 is above the thresold\n"
     ]
    }
   ],
   "source": [
    "monthly_sales = [42, 38, 33, 38, 40, 45]\n",
    "months = [\"Jan\", \"Feb\", \"March\", \"April\", \"May\", \"June\"]\n",
    "\n",
    "\n",
    "thresold = 35\n",
    "\n",
    "for sales_amount,months in zip (monthly_sales, months):\n",
    "    if sales_amount < thresold:\n",
    "        print(f\"Sales amount {sales_amount} is below the thresold\")\n",
    "        #break\n",
    "    else:\n",
    "        print(f\"Sale amount {sales_amount} is above the thresold\")"
   ]
  },
  {
   "cell_type": "code",
   "execution_count": 45,
   "id": "5f0b2405-6d81-4881-8035-368b6b89293c",
   "metadata": {},
   "outputs": [
    {
     "name": "stdout",
     "output_type": "stream",
     "text": [
      "42 Jan\n",
      "38 Feb\n",
      "33 March\n",
      "38 April\n",
      "40 May\n",
      "45 June\n"
     ]
    }
   ],
   "source": [
    "monthly_sales = [42, 38, 33, 38, 40, 45]\n",
    "months = [\"Jan\", \"Feb\", \"March\", \"April\", \"May\", \"June\"]\n",
    "\n",
    "\n",
    "thresold = 35\n",
    "\n",
    "for sales_amount,months in zip (monthly_sales, months):\n",
    "    print(sales_amount, months)\n",
    "    "
   ]
  },
  {
   "cell_type": "code",
   "execution_count": 2,
   "id": "0b8d7244-bcca-480f-a4a8-6a1b656e9679",
   "metadata": {},
   "outputs": [
    {
     "name": "stdout",
     "output_type": "stream",
     "text": [
      "Sale amount (42, 'Jan') in month is above the thresold\n",
      "Sale amount (38, 'Feb') in month is above the thresold\n",
      "Sales amount (33, 'March') in month is below the thresold\n",
      "Sale amount (38, 'April') in month is above the thresold\n",
      "Sale amount (40, 'May') in month is above the thresold\n",
      "Sale amount (45, 'June') in month is above the thresold\n"
     ]
    }
   ],
   "source": [
    "monthly_sales = [42, 38, 33, 38, 40, 45]\n",
    "months = [\"Jan\", \"Feb\", \"March\", \"April\", \"May\", \"June\"]\n",
    "\n",
    "\n",
    "thresold = 35\n",
    "\n",
    "for sales_amount,months in zip (monthly_sales, months):\n",
    "    \n",
    "    if sales_amount < thresold:\n",
    "        print(f\"Sales amount {sales_amount,months} in month is below the thresold\")\n",
    "        #break\n",
    "    else:\n",
    "        print(f\"Sale amount {sales_amount,months} in month is above the thresold\")"
   ]
  },
  {
   "cell_type": "code",
   "execution_count": 4,
   "id": "81ec7645-144e-48d7-b31e-98aa9b5a7f48",
   "metadata": {},
   "outputs": [
    {
     "data": {
      "text/plain": [
       "((1, 'a'), (2, 'b'), (3, 'c'))"
      ]
     },
     "execution_count": 4,
     "metadata": {},
     "output_type": "execute_result"
    }
   ],
   "source": [
    "a= [1, 2, 3,]\n",
    "b= [\"a\", \"b\", \"c\"]\n",
    "tuple (zip(a, b))\n"
   ]
  },
  {
   "cell_type": "code",
   "execution_count": null,
   "id": "4cb38a7c-bdce-4ab3-83be-33230d6ba35f",
   "metadata": {},
   "outputs": [],
   "source": []
  },
  {
   "cell_type": "code",
   "execution_count": null,
   "id": "23b751af-af1c-4830-9702-0050c00d4636",
   "metadata": {},
   "outputs": [],
   "source": []
  },
  {
   "cell_type": "code",
   "execution_count": null,
   "id": "4ac2aa32-51d0-4ce4-b723-a7ebed04f98e",
   "metadata": {},
   "outputs": [],
   "source": []
  },
  {
   "cell_type": "code",
   "execution_count": null,
   "id": "c6215945-219d-4344-85a5-f69ece555757",
   "metadata": {},
   "outputs": [],
   "source": []
  }
 ],
 "metadata": {
  "kernelspec": {
   "display_name": "Python 3 (ipykernel)",
   "language": "python",
   "name": "python3"
  },
  "language_info": {
   "codemirror_mode": {
    "name": "ipython",
    "version": 3
   },
   "file_extension": ".py",
   "mimetype": "text/x-python",
   "name": "python",
   "nbconvert_exporter": "python",
   "pygments_lexer": "ipython3",
   "version": "3.12.4"
  }
 },
 "nbformat": 4,
 "nbformat_minor": 5
}
