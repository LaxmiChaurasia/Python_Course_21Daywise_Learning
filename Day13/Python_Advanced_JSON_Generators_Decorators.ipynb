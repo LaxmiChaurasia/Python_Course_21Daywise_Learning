{
 "cells": [
  {
   "cell_type": "markdown",
   "id": "46c441ac",
   "metadata": {},
   "source": [
    "# ⚡ Python Advanced: JSON, Generators & Decorators\n",
    "This notebook covers three powerful Python concepts: **JSON handling, Generators, and Decorators**.\n",
    "\n",
    "These tools help us work with data, optimize performance, and write cleaner code."
   ]
  },
  {
   "cell_type": "markdown",
   "id": "a9960176",
   "metadata": {},
   "source": [
    "## 13.1 📦 Working with JSON\n",
    "**JSON (JavaScript Object Notation)** is a common format for storing and exchanging data (like API responses)."
   ]
  },
  {
   "cell_type": "code",
   "execution_count": null,
   "id": "aa2db525",
   "metadata": {},
   "outputs": [],
   "source": [
    "\n",
    "import json\n",
    "\n",
    "# Python dictionary\n",
    "student = {\"name\": \"Alice\", \"age\": 22, \"marks\": [85, 90, 95]}\n",
    "\n",
    "# Convert Python → JSON\n",
    "json_string = json.dumps(student)\n",
    "print(\"Python to JSON:\", json_string)\n",
    "\n",
    "# Convert JSON → Python\n",
    "python_dict = json.loads(json_string)\n",
    "print(\"Back to Python:\", python_dict)\n",
    "print(\"Student Name:\", python_dict[\"name\"])\n"
   ]
  },
  {
   "cell_type": "markdown",
   "id": "1aa06878",
   "metadata": {},
   "source": [
    "### 📝 Exercise\n",
    "Convert the following Python dictionary into JSON and back:\n",
    "```python\n",
    "car = {\"brand\": \"Toyota\", \"model\": \"Corolla\", \"year\": 2020}\n",
    "```"
   ]
  },
  {
   "cell_type": "markdown",
   "id": "db69d1cc",
   "metadata": {},
   "source": [
    "## 13.2 🔄 Generators and Iterators\n",
    "- **Iterators**: Objects that can be looped over.\n",
    "- **Generators**: Special functions using `yield`, which produce values one at a time (memory efficient)."
   ]
  },
  {
   "cell_type": "code",
   "execution_count": null,
   "id": "65411bda",
   "metadata": {},
   "outputs": [],
   "source": [
    "\n",
    "# Generator function\n",
    "def countdown(n):\n",
    "    while n > 0:\n",
    "        yield n\n",
    "        n -= 1\n",
    "\n",
    "for number in countdown(5):\n",
    "    print(number)\n"
   ]
  },
  {
   "cell_type": "markdown",
   "id": "b56f9f21",
   "metadata": {},
   "source": [
    "### 📝 Exercise\n",
    "Write a generator that yields the first 10 Fibonacci numbers."
   ]
  },
  {
   "cell_type": "markdown",
   "id": "57cc4edb",
   "metadata": {},
   "source": [
    "## 13.3 🎨 Decorators\n",
    "Decorators allow you to add functionality to existing functions without changing their code."
   ]
  },
  {
   "cell_type": "code",
   "execution_count": null,
   "id": "f1f725cd",
   "metadata": {},
   "outputs": [],
   "source": [
    "\n",
    "def log_decorator(func):\n",
    "    def wrapper():\n",
    "        print(\"Before function call\")\n",
    "        func()\n",
    "        print(\"After function call\")\n",
    "    return wrapper\n",
    "\n",
    "@log_decorator\n",
    "def greet():\n",
    "    print(\"Hello, Python!\")\n",
    "\n",
    "greet()\n"
   ]
  },
  {
   "cell_type": "markdown",
   "id": "35ce6c5f",
   "metadata": {},
   "source": [
    "### 📝 Exercise\n",
    "Create a decorator that calculates execution time of a function."
   ]
  },
  {
   "cell_type": "markdown",
   "id": "90f9c192",
   "metadata": {},
   "source": [
    "## 13.4 📝 Quiz\n",
    "- Q1: What function converts Python objects to JSON?\n",
    "- Q2: What keyword is used inside a generator?\n",
    "- Q3: Why do we use decorators?"
   ]
  },
  {
   "cell_type": "markdown",
   "id": "96eebf78",
   "metadata": {},
   "source": [
    "## 13.5 💻 Exercises\n",
    "1. Convert a list of employees into JSON format.\n",
    "2. Write a generator that yields even numbers up to 20.\n",
    "3. Create a decorator that measures the execution time of a function."
   ]
  },
  {
   "cell_type": "markdown",
   "id": "4d3ddf90",
   "metadata": {},
   "source": [
    "## 13.6 📌 Chapter Summary\n",
    "✔ **JSON** → For data storage & APIs\n",
    "✔ **Generators** → Memory-efficient iteration\n",
    "✔ **Decorators** → Add extra functionality without modifying code\n",
    "\n",
    "🚀 Mastering these concepts makes your Python code more **scalable, efficient, and professional**."
   ]
  }
 ],
 "metadata": {},
 "nbformat": 4,
 "nbformat_minor": 5
}
