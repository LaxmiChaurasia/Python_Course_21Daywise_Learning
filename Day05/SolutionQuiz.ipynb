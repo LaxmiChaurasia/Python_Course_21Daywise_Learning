{
 "cells": [
  {
   "cell_type": "code",
   "execution_count": 1,
   "id": "0331de2e-9a80-4351-9028-1c5016a11517",
   "metadata": {},
   "outputs": [
    {
     "name": "stdout",
     "output_type": "stream",
     "text": [
      "2\n",
      "3\n",
      "4\n"
     ]
    }
   ],
   "source": [
    "for i in range(2,10):\n",
    "    if i % 5 == 0:\n",
    "        break\n",
    "    print(i)"
   ]
  },
  {
   "cell_type": "code",
   "execution_count": 7,
   "id": "5125b2aa-cf5f-48ef-a9c0-c32d8a7b604c",
   "metadata": {},
   "outputs": [
    {
     "name": "stdout",
     "output_type": "stream",
     "text": [
      "['apple', 'banana', 'cherry', 'date', 'orange']\n"
     ]
    }
   ],
   "source": [
    "fruits = [\"apple\", \"banana\", \"cherry\", \"date\"]\n",
    "fruits.append(\"orange\")\n",
    "\n",
    "print(fruits)"
   ]
  },
  {
   "cell_type": "code",
   "execution_count": 21,
   "id": "f3e9c2e2-8c2d-4fc3-9657-24f93372ff66",
   "metadata": {},
   "outputs": [
    {
     "name": "stdout",
     "output_type": "stream",
     "text": [
      "Minor\n"
     ]
    }
   ],
   "source": [
    "age = 17\n",
    "if age >= 30:\n",
    "    print(\"Adult\")\n",
    "elif age > 18 and age < 30:\n",
    "    print(\"Young adult\")\n",
    "else:\n",
    "    print(\"Minor\")\n",
    "\n"
   ]
  },
  {
   "cell_type": "code",
   "execution_count": 23,
   "id": "8b813c09-bee9-4181-aa3f-6fee59e96c3d",
   "metadata": {},
   "outputs": [
    {
     "name": "stdout",
     "output_type": "stream",
     "text": [
      "6\n"
     ]
    }
   ],
   "source": [
    " lst = [1, [2, 3], 4, [5, [6, 7]]]\n",
    "print(lst[3][1][0])\n"
   ]
  },
  {
   "cell_type": "code",
   "execution_count": 29,
   "id": "09c88de1-2611-4471-951d-5e814db18a2b",
   "metadata": {},
   "outputs": [
    {
     "name": "stdout",
     "output_type": "stream",
     "text": [
      "1200\n"
     ]
    }
   ],
   "source": [
    "prices = [300, 50, 1200, 10]\n",
    "sorted(prices)\n",
    "print(prices[2])"
   ]
  },
  {
   "cell_type": "code",
   "execution_count": 31,
   "id": "2948201e-7a52-4e21-a749-55a8010f4cc4",
   "metadata": {},
   "outputs": [
    {
     "name": "stdout",
     "output_type": "stream",
     "text": [
      "0\n",
      "1\n",
      "2\n",
      "3\n"
     ]
    }
   ],
   "source": [
    "for i in range(4):\n",
    "    print(i)"
   ]
  },
  {
   "cell_type": "code",
   "execution_count": 33,
   "id": "4cc75489-099b-4d34-80e1-57bfc75dde75",
   "metadata": {},
   "outputs": [
    {
     "name": "stdout",
     "output_type": "stream",
     "text": [
      "Positive\n"
     ]
    }
   ],
   "source": [
    "n = -5\n",
    "message = \"Negative\" if n >= 0 else \"Positive\"\n",
    "print(message)"
   ]
  },
  {
   "cell_type": "code",
   "execution_count": 41,
   "id": "8caf2245-58ed-4c6f-bbe0-cd9bc38c445a",
   "metadata": {},
   "outputs": [
    {
     "name": "stdout",
     "output_type": "stream",
     "text": [
      "['spoon', 'pen']\n"
     ]
    }
   ],
   "source": [
    "office_supplies = [\"pen\", \"paper\", \"stapler\"]\n",
    "kitchen_supplies = [\"fork\", \"knife\", \"spoon\"]\n",
    "combined_list =  kitchen_supplies + office_supplies\n",
    "print(combined_list[2: 4])"
   ]
  },
  {
   "cell_type": "code",
   "execution_count": 43,
   "id": "377bd79e-1ff5-4b03-9a6b-0ca41051a9be",
   "metadata": {},
   "outputs": [
    {
     "ename": "ValueError",
     "evalue": "list.remove(x): x not in list",
     "output_type": "error",
     "traceback": [
      "\u001b[1;31m---------------------------------------------------------------------------\u001b[0m",
      "\u001b[1;31mValueError\u001b[0m                                Traceback (most recent call last)",
      "Cell \u001b[1;32mIn[43], line 2\u001b[0m\n\u001b[0;32m      1\u001b[0m animals \u001b[38;5;241m=\u001b[39m [\u001b[38;5;124m\"\u001b[39m\u001b[38;5;124mcat\u001b[39m\u001b[38;5;124m\"\u001b[39m, \u001b[38;5;124m\"\u001b[39m\u001b[38;5;124mdog\u001b[39m\u001b[38;5;124m\"\u001b[39m, \u001b[38;5;124m\"\u001b[39m\u001b[38;5;124mrabbit\u001b[39m\u001b[38;5;124m\"\u001b[39m, \u001b[38;5;124m\"\u001b[39m\u001b[38;5;124mwolf\u001b[39m\u001b[38;5;124m\"\u001b[39m]\n\u001b[1;32m----> 2\u001b[0m animals\u001b[38;5;241m.\u001b[39mremove(\u001b[38;5;124m\"\u001b[39m\u001b[38;5;124mlion\u001b[39m\u001b[38;5;124m\"\u001b[39m)\n",
      "\u001b[1;31mValueError\u001b[0m: list.remove(x): x not in list"
     ]
    }
   ],
   "source": [
    "animals = [\"cat\", \"dog\", \"rabbit\", \"wolf\"]\n",
    "animals.remove(\"lion\")"
   ]
  },
  {
   "cell_type": "code",
   "execution_count": null,
   "id": "cbec2870-c6dd-461d-b30a-7abe6e9b282e",
   "metadata": {},
   "outputs": [],
   "source": []
  }
 ],
 "metadata": {
  "kernelspec": {
   "display_name": "Python 3 (ipykernel)",
   "language": "python",
   "name": "python3"
  },
  "language_info": {
   "codemirror_mode": {
    "name": "ipython",
    "version": 3
   },
   "file_extension": ".py",
   "mimetype": "text/x-python",
   "name": "python",
   "nbconvert_exporter": "python",
   "pygments_lexer": "ipython3",
   "version": "3.12.4"
  }
 },
 "nbformat": 4,
 "nbformat_minor": 5
}
