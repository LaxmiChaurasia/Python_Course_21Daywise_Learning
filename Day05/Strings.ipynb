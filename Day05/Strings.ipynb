{
 "cells": [
  {
   "cell_type": "code",
   "execution_count": 1,
   "id": "64144696-8df3-40d1-87dc-c5ade5e5468c",
   "metadata": {},
   "outputs": [],
   "source": [
    "first = \"mohan\"\n",
    "last = \"sharma\""
   ]
  },
  {
   "cell_type": "code",
   "execution_count": 3,
   "id": "00b7525c-d237-4921-81f6-e6eb4717ed5c",
   "metadata": {},
   "outputs": [
    {
     "data": {
      "text/plain": [
       "str"
      ]
     },
     "execution_count": 3,
     "metadata": {},
     "output_type": "execute_result"
    }
   ],
   "source": [
    "type (first)"
   ]
  },
  {
   "cell_type": "code",
   "execution_count": 7,
   "id": "c5961ddc-c08b-4a16-a04d-e9b9ee50daea",
   "metadata": {},
   "outputs": [
    {
     "data": {
      "text/plain": [
       "'mohan sharma'"
      ]
     },
     "execution_count": 7,
     "metadata": {},
     "output_type": "execute_result"
    }
   ],
   "source": [
    "name = first + \" \" +last\n",
    "name"
   ]
  },
  {
   "cell_type": "markdown",
   "id": "49ce1968-c0d4-4d0f-aedd-9f1e6816af32",
   "metadata": {},
   "source": [
    "first = \"mohan\"\n",
    "last = \"sharma\"\n",
    "\n",
    "name = f\"{first} {last}\"\n",
    "\n",
    "name"
   ]
  },
  {
   "cell_type": "code",
   "execution_count": 12,
   "id": "88ec5d0b-ae40-4f92-ac5c-cfb840c766f6",
   "metadata": {},
   "outputs": [
    {
     "name": "stdout",
     "output_type": "stream",
     "text": [
      "mohan sharma\n"
     ]
    }
   ],
   "source": [
    "first = \"mohan\"\n",
    "last = \"sharma\"\n",
    "\n",
    "name = f\"{first} {last}\"\n",
    "print(name)\n"
   ]
  },
  {
   "cell_type": "code",
   "execution_count": 16,
   "id": "0df37f5b-8f02-4548-b6a5-91b6d2dd04a0",
   "metadata": {},
   "outputs": [
    {
     "data": {
      "text/plain": [
       "' mohan sharma is 30 years old'"
      ]
     },
     "execution_count": 16,
     "metadata": {},
     "output_type": "execute_result"
    }
   ],
   "source": [
    "age = 30\n",
    "\n",
    "info = f\" {first} {last} is {age} years old\"\n",
    "\n",
    "info"
   ]
  },
  {
   "cell_type": "code",
   "execution_count": 19,
   "id": "49c3630f-568b-487e-bea7-4c0681b5d392",
   "metadata": {},
   "outputs": [
    {
     "data": {
      "text/plain": [
       "'m'"
      ]
     },
     "execution_count": 19,
     "metadata": {},
     "output_type": "execute_result"
    }
   ],
   "source": [
    "name [0]"
   ]
  },
  {
   "cell_type": "code",
   "execution_count": 21,
   "id": "43010d2c-ac33-4443-ba00-bb6a1e923a3e",
   "metadata": {},
   "outputs": [
    {
     "data": {
      "text/plain": [
       "'o'"
      ]
     },
     "execution_count": 21,
     "metadata": {},
     "output_type": "execute_result"
    }
   ],
   "source": [
    "name[1]"
   ]
  },
  {
   "cell_type": "code",
   "execution_count": 23,
   "id": "9dd6f959-0f89-4d80-8947-64bab3b4f853",
   "metadata": {},
   "outputs": [
    {
     "data": {
      "text/plain": [
       "'moha'"
      ]
     },
     "execution_count": 23,
     "metadata": {},
     "output_type": "execute_result"
    }
   ],
   "source": [
    "name[0:4]"
   ]
  },
  {
   "cell_type": "code",
   "execution_count": 27,
   "id": "ad7c761d-714b-4dd2-b9e1-77bc8bd4472b",
   "metadata": {},
   "outputs": [
    {
     "data": {
      "text/plain": [
       "'mhns'"
      ]
     },
     "execution_count": 27,
     "metadata": {},
     "output_type": "execute_result"
    }
   ],
   "source": [
    "name[0:8:2]"
   ]
  },
  {
   "cell_type": "code",
   "execution_count": 38,
   "id": "d89a82bd-4b67-4ad3-b089-3864f5189a87",
   "metadata": {},
   "outputs": [
    {
     "ename": "TypeError",
     "evalue": "string indices must be integers, not 'tuple'",
     "output_type": "error",
     "traceback": [
      "\u001b[1;31m---------------------------------------------------------------------------\u001b[0m",
      "\u001b[1;31mTypeError\u001b[0m                                 Traceback (most recent call last)",
      "Cell \u001b[1;32mIn[38], line 1\u001b[0m\n\u001b[1;32m----> 1\u001b[0m name[\u001b[38;5;241m-\u001b[39m\u001b[38;5;241m1\u001b[39m,\u001b[38;5;241m-\u001b[39m\u001b[38;5;241m4\u001b[39m]\n",
      "\u001b[1;31mTypeError\u001b[0m: string indices must be integers, not 'tuple'"
     ]
    }
   ],
   "source": [
    "name[-1,-4]"
   ]
  },
  {
   "cell_type": "code",
   "execution_count": 40,
   "id": "a11a4183-a74b-4940-b87f-50d695f77925",
   "metadata": {},
   "outputs": [
    {
     "data": {
      "text/plain": [
       "12"
      ]
     },
     "execution_count": 40,
     "metadata": {},
     "output_type": "execute_result"
    }
   ],
   "source": [
    "len(name)"
   ]
  },
  {
   "cell_type": "code",
   "execution_count": 42,
   "id": "4105dd2f-e354-4365-9315-84238463ded0",
   "metadata": {},
   "outputs": [],
   "source": [
    "food_story = \"dhaval's favourite food is banana\"\n",
    "s = 'he said \"oops\"'"
   ]
  },
  {
   "cell_type": "code",
   "execution_count": 44,
   "id": "d9670cb9-3549-4fb6-9f1c-d3a87296d018",
   "metadata": {},
   "outputs": [
    {
     "data": {
      "text/plain": [
       "'Veg biryani with saffron, cardamom, and cloves, garnished with fried onions and cilantro.'"
      ]
     },
     "execution_count": 44,
     "metadata": {},
     "output_type": "execute_result"
    }
   ],
   "source": [
    "recipe = \"Veg biryani with saffron, cardamom, and cloves, garnished with fried onions and cilantro.\"\n",
    "recipe"
   ]
  },
  {
   "cell_type": "code",
   "execution_count": 46,
   "id": "0eb04a23-7b1e-46f7-b53b-04f7b8406207",
   "metadata": {},
   "outputs": [
    {
     "data": {
      "text/plain": [
       "'\\nVeg biryani with saffron, cardamom, and cloves, garnished with fried onions and cilantro.\\n'"
      ]
     },
     "execution_count": 46,
     "metadata": {},
     "output_type": "execute_result"
    }
   ],
   "source": [
    "recipe = '''\n",
    "Veg biryani with saffron, cardamom, and cloves, garnished with fried onions and cilantro.\n",
    "'''\n",
    "recipe"
   ]
  },
  {
   "cell_type": "code",
   "execution_count": 48,
   "id": "23aec9bf-727a-4849-94bd-65700d3caa5f",
   "metadata": {},
   "outputs": [
    {
     "name": "stdout",
     "output_type": "stream",
     "text": [
      "\n",
      "Veg biryani with saffron, cardamom, and cloves, garnished with fried onions and cilantro.\n",
      "\n"
     ]
    }
   ],
   "source": [
    "print(recipe)"
   ]
  },
  {
   "cell_type": "code",
   "execution_count": 50,
   "id": "76852bfb-e75a-4c87-885f-60bde924879a",
   "metadata": {},
   "outputs": [
    {
     "data": {
      "text/plain": [
       "True"
      ]
     },
     "execution_count": 50,
     "metadata": {},
     "output_type": "execute_result"
    }
   ],
   "source": [
    "# Check if 'cardamom' is mentioned in the dish description\n",
    "spice = \"cardamom\"\n",
    "spice in recipe"
   ]
  },
  {
   "cell_type": "code",
   "execution_count": 52,
   "id": "7ed07ef2-a17e-4d4d-b185-ba2938684d30",
   "metadata": {},
   "outputs": [
    {
     "data": {
      "text/plain": [
       "False"
      ]
     },
     "execution_count": 52,
     "metadata": {},
     "output_type": "execute_result"
    }
   ],
   "source": [
    "\"milk\" in recipe"
   ]
  },
  {
   "cell_type": "code",
   "execution_count": 54,
   "id": "fd94acfa-51bc-4f57-aef2-a93e1f46968f",
   "metadata": {},
   "outputs": [
    {
     "data": {
      "text/plain": [
       "'patient was charged 100$ for lab test'"
      ]
     },
     "execution_count": 54,
     "metadata": {},
     "output_type": "execute_result"
    }
   ],
   "source": [
    "s = \"patient was charged 100$ for lab test\"\n",
    "s"
   ]
  },
  {
   "cell_type": "code",
   "execution_count": 56,
   "id": "6316f389-4e86-4194-b7e8-147edb823f44",
   "metadata": {},
   "outputs": [
    {
     "data": {
      "text/plain": [
       "'patient was charged 50$ for lab test'"
      ]
     },
     "execution_count": 56,
     "metadata": {},
     "output_type": "execute_result"
    }
   ],
   "source": [
    "s = s.replace(\"100$\",\"50$\")\n",
    "s"
   ]
  },
  {
   "cell_type": "code",
   "execution_count": 58,
   "id": "79409a8c-f522-48b4-a618-3b65b9d748f6",
   "metadata": {},
   "outputs": [
    {
     "data": {
      "text/plain": [
       "'PATIENT WAS CHARGED 50$ FOR LAB TEST'"
      ]
     },
     "execution_count": 58,
     "metadata": {},
     "output_type": "execute_result"
    }
   ],
   "source": [
    "s.upper()"
   ]
  },
  {
   "cell_type": "code",
   "execution_count": 60,
   "id": "164f74bf-2233-4643-8d24-4291690d15b2",
   "metadata": {},
   "outputs": [
    {
     "data": {
      "text/plain": [
       "'abc'"
      ]
     },
     "execution_count": 60,
     "metadata": {},
     "output_type": "execute_result"
    }
   ],
   "source": [
    "a = \"ABC\"\n",
    "a.lower()"
   ]
  },
  {
   "cell_type": "code",
   "execution_count": 70,
   "id": "e773c1ff-1290-4c4c-8f3e-49ff4c102023",
   "metadata": {},
   "outputs": [
    {
     "data": {
      "text/plain": [
       "True"
      ]
     },
     "execution_count": 70,
     "metadata": {},
     "output_type": "execute_result"
    }
   ],
   "source": [
    "\"410\".isdigit()"
   ]
  },
  {
   "cell_type": "code",
   "execution_count": 72,
   "id": "244b5565-4d29-464a-a85c-a5e43dd28307",
   "metadata": {},
   "outputs": [
    {
     "data": {
      "text/plain": [
       "False"
      ]
     },
     "execution_count": 72,
     "metadata": {},
     "output_type": "execute_result"
    }
   ],
   "source": [
    "\"4a10\".isdigit()"
   ]
  },
  {
   "cell_type": "code",
   "execution_count": 74,
   "id": "89f528fe-03ff-4b24-8c38-69017df889ca",
   "metadata": {},
   "outputs": [
    {
     "data": {
      "text/plain": [
       "'patient was charged 50$ for lab test'"
      ]
     },
     "execution_count": 74,
     "metadata": {},
     "output_type": "execute_result"
    }
   ],
   "source": [
    "s"
   ]
  },
  {
   "cell_type": "code",
   "execution_count": 78,
   "id": "ad7106fe-4026-4860-b441-1d35d49b4d78",
   "metadata": {},
   "outputs": [
    {
     "data": {
      "text/plain": [
       "20"
      ]
     },
     "execution_count": 78,
     "metadata": {},
     "output_type": "execute_result"
    }
   ],
   "source": [
    "s.index(\"50$\")"
   ]
  },
  {
   "cell_type": "code",
   "execution_count": 80,
   "id": "791cec5c-0ce4-4383-98cb-d2846c98a537",
   "metadata": {},
   "outputs": [
    {
     "data": {
      "text/plain": [
       "1"
      ]
     },
     "execution_count": 80,
     "metadata": {},
     "output_type": "execute_result"
    }
   ],
   "source": [
    "-9%2"
   ]
  },
  {
   "cell_type": "code",
   "execution_count": 82,
   "id": "0b35b9e5-d446-418d-983c-e2d9e560ee67",
   "metadata": {},
   "outputs": [
    {
     "name": "stdout",
     "output_type": "stream",
     "text": [
      "False\n"
     ]
    }
   ],
   "source": [
    "word = \"Python\"\n",
    "print(\"PyT\" in word)"
   ]
  },
  {
   "cell_type": "code",
   "execution_count": 84,
   "id": "04474893-bc18-468a-830a-00c458701e64",
   "metadata": {},
   "outputs": [
    {
     "name": "stdout",
     "output_type": "stream",
     "text": [
      "True\n"
     ]
    }
   ],
   "source": [
    "word = \"Python\"\n",
    "print(\"Pyt\" in word)"
   ]
  },
  {
   "cell_type": "code",
   "execution_count": null,
   "id": "e489a019-b1ee-438a-851e-b7cd5bc74602",
   "metadata": {},
   "outputs": [],
   "source": []
  }
 ],
 "metadata": {
  "kernelspec": {
   "display_name": "Python 3 (ipykernel)",
   "language": "python",
   "name": "python3"
  },
  "language_info": {
   "codemirror_mode": {
    "name": "ipython",
    "version": 3
   },
   "file_extension": ".py",
   "mimetype": "text/x-python",
   "name": "python",
   "nbconvert_exporter": "python",
   "pygments_lexer": "ipython3",
   "version": "3.12.4"
  }
 },
 "nbformat": 4,
 "nbformat_minor": 5
}
